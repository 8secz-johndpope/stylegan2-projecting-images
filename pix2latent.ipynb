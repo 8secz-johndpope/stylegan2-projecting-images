{
  "nbformat": 4,
  "nbformat_minor": 0,
  "metadata": {
    "colab": {
      "name": "pix2latent.ipynb",
      "provenance": [],
      "collapsed_sections": [
        "ICtVoezq1HCY",
        "sY0q2rMR1gG9",
        "7spZ5tF8xR5G",
        "2oAkybXex3VL",
        "fW0mAT4y1Q-L",
        "BM-rmQNuwqgc",
        "As-nYHyd2d0t",
        "D90jDo102yRr",
        "hzy6BhUu225y",
        "CmjeYD7mO3TM"
      ]
    },
    "kernelspec": {
      "name": "python3",
      "display_name": "Python 3"
    },
    "accelerator": "GPU"
  },
  "cells": [
    {
      "cell_type": "markdown",
      "metadata": {
        "id": "_-amJThpwu1F",
        "colab_type": "text"
      },
      "source": [
        "# Projection to the z-space\n",
        "\n",
        "References:\n",
        "-   z-space: https://github.com/minyoungg/pix2latent/issues/3\n",
        "-   w-space: https://github.com/woctezuma/stylegan2-projecting-images"
      ]
    },
    {
      "cell_type": "markdown",
      "metadata": {
        "id": "ICtVoezq1HCY",
        "colab_type": "text"
      },
      "source": [
        "## Requirements for alignment"
      ]
    },
    {
      "cell_type": "markdown",
      "metadata": {
        "id": "sY0q2rMR1gG9",
        "colab_type": "text"
      },
      "source": [
        "### Switch to Tensorflow 1.x"
      ]
    },
    {
      "cell_type": "code",
      "metadata": {
        "id": "eon6qyaU0mZ_",
        "colab_type": "code",
        "colab": {
          "base_uri": "https://localhost:8080/",
          "height": 35
        },
        "outputId": "b9bcc588-c70f-4345-e5ec-e954563a0113"
      },
      "source": [
        "%tensorflow_version 1.x"
      ],
      "execution_count": 1,
      "outputs": [
        {
          "output_type": "stream",
          "text": [
            "TensorFlow 1.x selected.\n"
          ],
          "name": "stdout"
        }
      ]
    },
    {
      "cell_type": "markdown",
      "metadata": {
        "id": "7spZ5tF8xR5G",
        "colab_type": "text"
      },
      "source": [
        "### Install my fork of StyleGAN2\n",
        "\n",
        "Reference: https://github.com/woctezuma/stylegan2/tree/tiled-projector"
      ]
    },
    {
      "cell_type": "code",
      "metadata": {
        "id": "gbcE7dnTxL5E",
        "colab_type": "code",
        "colab": {
          "base_uri": "https://localhost:8080/",
          "height": 109
        },
        "outputId": "63d8aca8-d49e-49c8-bd32-e95511224e6f"
      },
      "source": [
        "%cd /content/\n",
        "!git clone https://github.com/woctezuma/stylegan2.git\n",
        "\n",
        "%cd /content/stylegan2/\n",
        "!git checkout tiled-projector"
      ],
      "execution_count": 2,
      "outputs": [
        {
          "output_type": "stream",
          "text": [
            "/content\n",
            "fatal: destination path 'stylegan2' already exists and is not an empty directory.\n",
            "/content/stylegan2\n",
            "Already on 'tiled-projector'\n",
            "Your branch is up to date with 'origin/tiled-projector'.\n"
          ],
          "name": "stdout"
        }
      ]
    },
    {
      "cell_type": "markdown",
      "metadata": {
        "id": "2oAkybXex3VL",
        "colab_type": "text"
      },
      "source": [
        "### Download model (face landmarks)\n",
        "\n",
        "Reference: http://dlib.net/files/shape_predictor_68_face_landmarks.dat.bz2"
      ]
    },
    {
      "cell_type": "code",
      "metadata": {
        "id": "1QK89wHZx4t1",
        "colab_type": "code",
        "colab": {
          "base_uri": "https://localhost:8080/",
          "height": 329
        },
        "outputId": "ca2a744f-323e-4082-bfac-68fc399ac43d"
      },
      "source": [
        "%mkdir -p /root/.keras/temp/\n",
        "\n",
        "%cd /root/.keras/temp/\n",
        "!wget https://github.com/davisking/dlib-models/raw/master/shape_predictor_68_face_landmarks.dat.bz2"
      ],
      "execution_count": 3,
      "outputs": [
        {
          "output_type": "stream",
          "text": [
            "/root/.keras/temp\n",
            "--2020-09-22 19:11:29--  https://github.com/davisking/dlib-models/raw/master/shape_predictor_68_face_landmarks.dat.bz2\n",
            "Resolving github.com (github.com)... 192.30.255.113\n",
            "Connecting to github.com (github.com)|192.30.255.113|:443... connected.\n",
            "HTTP request sent, awaiting response... 302 Found\n",
            "Location: https://raw.githubusercontent.com/davisking/dlib-models/master/shape_predictor_68_face_landmarks.dat.bz2 [following]\n",
            "--2020-09-22 19:11:29--  https://raw.githubusercontent.com/davisking/dlib-models/master/shape_predictor_68_face_landmarks.dat.bz2\n",
            "Resolving raw.githubusercontent.com (raw.githubusercontent.com)... 151.101.0.133, 151.101.64.133, 151.101.128.133, ...\n",
            "Connecting to raw.githubusercontent.com (raw.githubusercontent.com)|151.101.0.133|:443... connected.\n",
            "HTTP request sent, awaiting response... 200 OK\n",
            "Length: 64040097 (61M) [application/octet-stream]\n",
            "Saving to: ‘shape_predictor_68_face_landmarks.dat.bz2.4’\n",
            "\n",
            "shape_predictor_68_ 100%[===================>]  61.07M   121MB/s    in 0.5s    \n",
            "\n",
            "2020-09-22 19:11:30 (121 MB/s) - ‘shape_predictor_68_face_landmarks.dat.bz2.4’ saved [64040097/64040097]\n",
            "\n"
          ],
          "name": "stdout"
        }
      ]
    },
    {
      "cell_type": "markdown",
      "metadata": {
        "id": "2tnYa6q62Bhb",
        "colab_type": "text"
      },
      "source": [
        "## Alignment"
      ]
    },
    {
      "cell_type": "markdown",
      "metadata": {
        "id": "8vCqYXhB2Lk6",
        "colab_type": "text"
      },
      "source": [
        "### Download"
      ]
    },
    {
      "cell_type": "code",
      "metadata": {
        "id": "Y0ELIg9L2LHp",
        "colab_type": "code",
        "colab": {
          "base_uri": "https://localhost:8080/",
          "height": 237
        },
        "outputId": "52d1d3bc-1462-4c5d-8bd1-141c6e435086"
      },
      "source": [
        "%mkdir -p /content/stylegan2/raw_images/\n",
        "\n",
        "%cd /content/stylegan2/raw_images/\n",
        "!wget https://upload.wikimedia.org/wikipedia/commons/b/b0/Venus_botticelli_detail.jpg"
      ],
      "execution_count": 4,
      "outputs": [
        {
          "output_type": "stream",
          "text": [
            "/content/stylegan2/raw_images\n",
            "--2020-09-22 19:11:30--  https://upload.wikimedia.org/wikipedia/commons/b/b0/Venus_botticelli_detail.jpg\n",
            "Resolving upload.wikimedia.org (upload.wikimedia.org)... 198.35.26.112, 2620:0:863:ed1a::2:b\n",
            "Connecting to upload.wikimedia.org (upload.wikimedia.org)|198.35.26.112|:443... connected.\n",
            "HTTP request sent, awaiting response... 200 OK\n",
            "Length: 992216 (969K) [image/jpeg]\n",
            "Saving to: ‘Venus_botticelli_detail.jpg.5’\n",
            "\n",
            "Venus_botticelli_de 100%[===================>] 968.96K  6.07MB/s    in 0.2s    \n",
            "\n",
            "2020-09-22 19:11:30 (6.07 MB/s) - ‘Venus_botticelli_detail.jpg.5’ saved [992216/992216]\n",
            "\n"
          ],
          "name": "stdout"
        }
      ]
    },
    {
      "cell_type": "markdown",
      "metadata": {
        "id": "S215zMgM2NUg",
        "colab_type": "text"
      },
      "source": [
        "### Align"
      ]
    },
    {
      "cell_type": "code",
      "metadata": {
        "id": "HLk7a63L2EhT",
        "colab_type": "code",
        "colab": {
          "base_uri": "https://localhost:8080/",
          "height": 35
        },
        "outputId": "ffd64180-410a-424f-d1d7-728a4176b458"
      },
      "source": [
        "%cd /content/stylegan2/\n",
        "!python align_images.py raw_images/ aligned_images/"
      ],
      "execution_count": 5,
      "outputs": [
        {
          "output_type": "stream",
          "text": [
            "/content/stylegan2\n"
          ],
          "name": "stdout"
        }
      ]
    },
    {
      "cell_type": "markdown",
      "metadata": {
        "id": "fW0mAT4y1Q-L",
        "colab_type": "text"
      },
      "source": [
        "## Requirements for projection"
      ]
    },
    {
      "cell_type": "markdown",
      "metadata": {
        "id": "BM-rmQNuwqgc",
        "colab_type": "text"
      },
      "source": [
        "### Install pix2latent\n",
        "\n",
        "Reference: https://github.com/minyoungg/pix2latent"
      ]
    },
    {
      "cell_type": "code",
      "metadata": {
        "id": "G8pdXzWKv0Lm",
        "colab_type": "code",
        "colab": {
          "base_uri": "https://localhost:8080/",
          "height": 1000
        },
        "outputId": "85d8196b-562f-44e7-9ba9-3848f0ce3425"
      },
      "source": [
        "%cd /content/\n",
        "!git clone https://github.com/minyoungg/pix2latent.git\n",
        "\n",
        "%cd /content/pix2latent/\n",
        "%pip install -r requirements.txt\n",
        "%pip install ."
      ],
      "execution_count": 6,
      "outputs": [
        {
          "output_type": "stream",
          "text": [
            "/content\n",
            "fatal: destination path 'pix2latent' already exists and is not an empty directory.\n",
            "/content/pix2latent\n",
            "Requirement already satisfied: cma>=3.0.3 in /usr/local/lib/python3.6/dist-packages (from -r requirements.txt (line 1)) (3.0.3)\n",
            "Requirement already satisfied: easydict>=1.9 in /usr/local/lib/python3.6/dist-packages (from -r requirements.txt (line 2)) (1.9)\n",
            "Requirement already satisfied: nevergrad>=0.4.0.post3 in /usr/local/lib/python3.6/dist-packages (from -r requirements.txt (line 3)) (0.4.2)\n",
            "Requirement already satisfied: nltk>=3.5 in /usr/local/lib/python3.6/dist-packages (from -r requirements.txt (line 4)) (3.5)\n",
            "Requirement already satisfied: numpy>=1.18.4 in /usr/local/lib/python3.6/dist-packages (from -r requirements.txt (line 5)) (1.18.5)\n",
            "Requirement already satisfied: Pillow>=7.1.2 in /usr/local/lib/python3.6/dist-packages (from -r requirements.txt (line 6)) (7.2.0)\n",
            "Requirement already satisfied: pytorch_pretrained_biggan>=0.1.1 in /usr/local/lib/python3.6/dist-packages (from -r requirements.txt (line 7)) (0.1.1)\n",
            "Requirement already satisfied: scipy>=1.4.1 in /usr/local/lib/python3.6/dist-packages (from -r requirements.txt (line 8)) (1.4.1)\n",
            "Requirement already satisfied: scikit-image>=0.0 in /usr/local/lib/python3.6/dist-packages (from -r requirements.txt (line 9)) (0.16.2)\n",
            "Requirement already satisfied: scikit-video>=1.1.11 in /usr/local/lib/python3.6/dist-packages (from -r requirements.txt (line 10)) (1.1.11)\n",
            "Requirement already satisfied: opencv-python>=4.2.0.34 in /usr/local/lib/python3.6/dist-packages (from -r requirements.txt (line 11)) (4.4.0.42)\n",
            "Requirement already satisfied: GitPython==3.1.7 in /usr/local/lib/python3.6/dist-packages (from -r requirements.txt (line 12)) (3.1.7)\n",
            "Requirement already satisfied: ipython>=7.14.0 in /usr/local/lib/python3.6/dist-packages (from -r requirements.txt (line 13)) (7.16.1)\n",
            "Requirement already satisfied: gdown>=3.12.2 in /usr/local/lib/python3.6/dist-packages (from -r requirements.txt (line 14)) (3.12.2)\n",
            "Requirement already satisfied: lpips>=0.1 in /usr/local/lib/python3.6/dist-packages (from -r requirements.txt (line 15)) (0.1.1)\n",
            "Requirement already satisfied: typing-extensions>=3.6.6 in /usr/local/lib/python3.6/dist-packages (from nevergrad>=0.4.0.post3->-r requirements.txt (line 3)) (3.7.4.3)\n",
            "Requirement already satisfied: bayesian-optimization>=1.1.0 in /usr/local/lib/python3.6/dist-packages (from nevergrad>=0.4.0.post3->-r requirements.txt (line 3)) (1.2.0)\n",
            "Requirement already satisfied: click in /usr/local/lib/python3.6/dist-packages (from nltk>=3.5->-r requirements.txt (line 4)) (7.1.2)\n",
            "Requirement already satisfied: joblib in /usr/local/lib/python3.6/dist-packages (from nltk>=3.5->-r requirements.txt (line 4)) (0.16.0)\n",
            "Requirement already satisfied: regex in /usr/local/lib/python3.6/dist-packages (from nltk>=3.5->-r requirements.txt (line 4)) (2019.12.20)\n",
            "Requirement already satisfied: tqdm in /usr/local/lib/python3.6/dist-packages (from nltk>=3.5->-r requirements.txt (line 4)) (4.41.1)\n",
            "Requirement already satisfied: boto3 in /usr/local/lib/python3.6/dist-packages (from pytorch_pretrained_biggan>=0.1.1->-r requirements.txt (line 7)) (1.14.63)\n",
            "Requirement already satisfied: requests in /usr/local/lib/python3.6/dist-packages (from pytorch_pretrained_biggan>=0.1.1->-r requirements.txt (line 7)) (2.23.0)\n",
            "Requirement already satisfied: torch>=0.4.1 in /usr/local/lib/python3.6/dist-packages (from pytorch_pretrained_biggan>=0.1.1->-r requirements.txt (line 7)) (1.6.0+cu101)\n",
            "Requirement already satisfied: networkx>=2.0 in /usr/local/lib/python3.6/dist-packages (from scikit-image>=0.0->-r requirements.txt (line 9)) (2.5)\n",
            "Requirement already satisfied: PyWavelets>=0.4.0 in /usr/local/lib/python3.6/dist-packages (from scikit-image>=0.0->-r requirements.txt (line 9)) (1.1.1)\n",
            "Requirement already satisfied: matplotlib!=3.0.0,>=2.0.0 in /usr/local/lib/python3.6/dist-packages (from scikit-image>=0.0->-r requirements.txt (line 9)) (3.2.2)\n",
            "Requirement already satisfied: imageio>=2.3.0 in /usr/local/lib/python3.6/dist-packages (from scikit-image>=0.0->-r requirements.txt (line 9)) (2.4.1)\n",
            "Requirement already satisfied: gitdb<5,>=4.0.1 in /usr/local/lib/python3.6/dist-packages (from GitPython==3.1.7->-r requirements.txt (line 12)) (4.0.5)\n",
            "Requirement already satisfied: decorator in /usr/local/lib/python3.6/dist-packages (from ipython>=7.14.0->-r requirements.txt (line 13)) (4.4.2)\n",
            "Requirement already satisfied: pygments in /usr/local/lib/python3.6/dist-packages (from ipython>=7.14.0->-r requirements.txt (line 13)) (2.6.1)\n",
            "Requirement already satisfied: pexpect; sys_platform != \"win32\" in /usr/local/lib/python3.6/dist-packages (from ipython>=7.14.0->-r requirements.txt (line 13)) (4.8.0)\n",
            "Requirement already satisfied: pickleshare in /usr/local/lib/python3.6/dist-packages (from ipython>=7.14.0->-r requirements.txt (line 13)) (0.7.5)\n",
            "Requirement already satisfied: setuptools>=18.5 in /usr/local/lib/python3.6/dist-packages (from ipython>=7.14.0->-r requirements.txt (line 13)) (50.3.0)\n",
            "Requirement already satisfied: jedi>=0.10 in /usr/local/lib/python3.6/dist-packages (from ipython>=7.14.0->-r requirements.txt (line 13)) (0.17.2)\n",
            "Requirement already satisfied: backcall in /usr/local/lib/python3.6/dist-packages (from ipython>=7.14.0->-r requirements.txt (line 13)) (0.2.0)\n",
            "Requirement already satisfied: prompt-toolkit!=3.0.0,!=3.0.1,<3.1.0,>=2.0.0 in /usr/local/lib/python3.6/dist-packages (from ipython>=7.14.0->-r requirements.txt (line 13)) (3.0.7)\n",
            "Requirement already satisfied: traitlets>=4.2 in /usr/local/lib/python3.6/dist-packages (from ipython>=7.14.0->-r requirements.txt (line 13)) (4.3.3)\n",
            "Requirement already satisfied: filelock in /usr/local/lib/python3.6/dist-packages (from gdown>=3.12.2->-r requirements.txt (line 14)) (3.0.12)\n",
            "Requirement already satisfied: six in /usr/local/lib/python3.6/dist-packages (from gdown>=3.12.2->-r requirements.txt (line 14)) (1.15.0)\n",
            "Requirement already satisfied: scikit-learn>=0.18.0 in /usr/local/lib/python3.6/dist-packages (from bayesian-optimization>=1.1.0->nevergrad>=0.4.0.post3->-r requirements.txt (line 3)) (0.22.2.post1)\n",
            "Requirement already satisfied: jmespath<1.0.0,>=0.7.1 in /usr/local/lib/python3.6/dist-packages (from boto3->pytorch_pretrained_biggan>=0.1.1->-r requirements.txt (line 7)) (0.10.0)\n",
            "Requirement already satisfied: s3transfer<0.4.0,>=0.3.0 in /usr/local/lib/python3.6/dist-packages (from boto3->pytorch_pretrained_biggan>=0.1.1->-r requirements.txt (line 7)) (0.3.3)\n",
            "Requirement already satisfied: botocore<1.18.0,>=1.17.63 in /usr/local/lib/python3.6/dist-packages (from boto3->pytorch_pretrained_biggan>=0.1.1->-r requirements.txt (line 7)) (1.17.63)\n",
            "Requirement already satisfied: certifi>=2017.4.17 in /usr/local/lib/python3.6/dist-packages (from requests->pytorch_pretrained_biggan>=0.1.1->-r requirements.txt (line 7)) (2020.6.20)\n",
            "Requirement already satisfied: idna<3,>=2.5 in /usr/local/lib/python3.6/dist-packages (from requests->pytorch_pretrained_biggan>=0.1.1->-r requirements.txt (line 7)) (2.10)\n",
            "Requirement already satisfied: chardet<4,>=3.0.2 in /usr/local/lib/python3.6/dist-packages (from requests->pytorch_pretrained_biggan>=0.1.1->-r requirements.txt (line 7)) (3.0.4)\n",
            "Requirement already satisfied: urllib3!=1.25.0,!=1.25.1,<1.26,>=1.21.1 in /usr/local/lib/python3.6/dist-packages (from requests->pytorch_pretrained_biggan>=0.1.1->-r requirements.txt (line 7)) (1.24.3)\n",
            "Requirement already satisfied: future in /usr/local/lib/python3.6/dist-packages (from torch>=0.4.1->pytorch_pretrained_biggan>=0.1.1->-r requirements.txt (line 7)) (0.16.0)\n",
            "Requirement already satisfied: pyparsing!=2.0.4,!=2.1.2,!=2.1.6,>=2.0.1 in /usr/local/lib/python3.6/dist-packages (from matplotlib!=3.0.0,>=2.0.0->scikit-image>=0.0->-r requirements.txt (line 9)) (2.4.7)\n",
            "Requirement already satisfied: python-dateutil>=2.1 in /usr/local/lib/python3.6/dist-packages (from matplotlib!=3.0.0,>=2.0.0->scikit-image>=0.0->-r requirements.txt (line 9)) (2.8.1)\n",
            "Requirement already satisfied: kiwisolver>=1.0.1 in /usr/local/lib/python3.6/dist-packages (from matplotlib!=3.0.0,>=2.0.0->scikit-image>=0.0->-r requirements.txt (line 9)) (1.2.0)\n",
            "Requirement already satisfied: cycler>=0.10 in /usr/local/lib/python3.6/dist-packages (from matplotlib!=3.0.0,>=2.0.0->scikit-image>=0.0->-r requirements.txt (line 9)) (0.10.0)\n",
            "Requirement already satisfied: smmap<4,>=3.0.1 in /usr/local/lib/python3.6/dist-packages (from gitdb<5,>=4.0.1->GitPython==3.1.7->-r requirements.txt (line 12)) (3.0.4)\n",
            "Requirement already satisfied: ptyprocess>=0.5 in /usr/local/lib/python3.6/dist-packages (from pexpect; sys_platform != \"win32\"->ipython>=7.14.0->-r requirements.txt (line 13)) (0.6.0)\n",
            "Requirement already satisfied: parso<0.8.0,>=0.7.0 in /usr/local/lib/python3.6/dist-packages (from jedi>=0.10->ipython>=7.14.0->-r requirements.txt (line 13)) (0.7.1)\n",
            "Requirement already satisfied: wcwidth in /usr/local/lib/python3.6/dist-packages (from prompt-toolkit!=3.0.0,!=3.0.1,<3.1.0,>=2.0.0->ipython>=7.14.0->-r requirements.txt (line 13)) (0.2.5)\n",
            "Requirement already satisfied: ipython-genutils in /usr/local/lib/python3.6/dist-packages (from traitlets>=4.2->ipython>=7.14.0->-r requirements.txt (line 13)) (0.2.0)\n",
            "Requirement already satisfied: docutils<0.16,>=0.10 in /usr/local/lib/python3.6/dist-packages (from botocore<1.18.0,>=1.17.63->boto3->pytorch_pretrained_biggan>=0.1.1->-r requirements.txt (line 7)) (0.15.2)\n",
            "Processing /content/pix2latent\n",
            "Building wheels for collected packages: pix2latent\n",
            "  Building wheel for pix2latent (setup.py) ... \u001b[?25l\u001b[?25hdone\n",
            "  Created wheel for pix2latent: filename=pix2latent-0.0.1-cp36-none-any.whl size=73701 sha256=2ce923156fbe0b0351786fe20d2fe2dab6b2eb022a83343dd4672bf77cc9028c\n",
            "  Stored in directory: /tmp/pip-ephem-wheel-cache-00zxsizl/wheels/5c/3d/be/64951ba1ef2bdba4b70ca23355afe1556b61e3a5f8c2e724c6\n",
            "Successfully built pix2latent\n",
            "Installing collected packages: pix2latent\n",
            "  Found existing installation: pix2latent 0.0.1\n",
            "    Uninstalling pix2latent-0.0.1:\n",
            "      Successfully uninstalled pix2latent-0.0.1\n",
            "Successfully installed pix2latent-0.0.1\n"
          ],
          "name": "stdout"
        }
      ]
    },
    {
      "cell_type": "markdown",
      "metadata": {
        "id": "As-nYHyd2d0t",
        "colab_type": "text"
      },
      "source": [
        "### Install additional packages\n",
        "\n",
        "Reference: https://github.com/rosinality/stylegan2-pytorch"
      ]
    },
    {
      "cell_type": "code",
      "metadata": {
        "id": "rst2XgKw2iiA",
        "colab_type": "code",
        "colab": {
          "base_uri": "https://localhost:8080/",
          "height": 35
        },
        "outputId": "408d7a5b-ec8a-4abe-f909-7f1fca2f3e8d"
      },
      "source": [
        "%pip install ninja"
      ],
      "execution_count": 7,
      "outputs": [
        {
          "output_type": "stream",
          "text": [
            "Requirement already satisfied: ninja in /usr/local/lib/python3.6/dist-packages (1.10.0.post2)\n"
          ],
          "name": "stdout"
        }
      ]
    },
    {
      "cell_type": "markdown",
      "metadata": {
        "id": "aTtx1xG9y0Hy",
        "colab_type": "text"
      },
      "source": [
        "## Projection\n",
        "\n",
        "Reference: https://github.com/minyoungg/pix2latent/blob/master/examples/"
      ]
    },
    {
      "cell_type": "code",
      "metadata": {
        "id": "A4P3kgFt37KO",
        "colab_type": "code",
        "colab": {
          "base_uri": "https://localhost:8080/",
          "height": 35
        },
        "outputId": "529258de-b3ea-4250-de7b-fb42a948c96b"
      },
      "source": [
        "%cd /content/pix2latent/examples/"
      ],
      "execution_count": 8,
      "outputs": [
        {
          "output_type": "stream",
          "text": [
            "/content/pix2latent/examples\n"
          ],
          "name": "stdout"
        }
      ]
    },
    {
      "cell_type": "markdown",
      "metadata": {
        "id": "D90jDo102yRr",
        "colab_type": "text"
      },
      "source": [
        "### Imports & argument parser"
      ]
    },
    {
      "cell_type": "code",
      "metadata": {
        "id": "qW7IqhdCzb9z",
        "colab_type": "code",
        "colab": {
          "base_uri": "https://localhost:8080/",
          "height": 0
        },
        "outputId": "609068a5-69dd-4c47-c25f-eaf98a5d6499"
      },
      "source": [
        "import os, os.path as osp\n",
        "import numpy as np\n",
        "import argparse\n",
        "\n",
        "import torch\n",
        "import torch.nn as nn\n",
        "\n",
        "from pix2latent.model.stylegan2 import StyleGAN2\n",
        "\n",
        "from pix2latent import VariableManager, save_variables\n",
        "from pix2latent.optimizer import NevergradOptimizer\n",
        "from pix2latent.utils import image, video\n",
        "\n",
        "import pix2latent.loss_functions as LF\n",
        "import pix2latent.utils.function_hooks as hook\n",
        "import pix2latent.distribution as dist\n",
        "\n",
        "\n",
        "parser = argparse.ArgumentParser()\n",
        "parser.add_argument('--ng_method', type=str, default='CMA')\n",
        "parser.add_argument('--lr', type=float, default=0.05)\n",
        "parser.add_argument('--latent_noise', type=float, default=0.05)\n",
        "parser.add_argument('--truncate', type=float, default=2.0)\n",
        "parser.add_argument('--make_video', action='store_true')\n",
        "parser.add_argument('--num_samples', type=int, default=4)\n",
        "parser.add_argument('--max_minibatch', type=int, default=9)"
      ],
      "execution_count": 20,
      "outputs": [
        {
          "output_type": "execute_result",
          "data": {
            "text/plain": [
              "_StoreAction(option_strings=['--max_minibatch'], dest='max_minibatch', nargs=None, const=None, default=9, type=<class 'int'>, choices=None, help=None, metavar=None)"
            ]
          },
          "metadata": {
            "tags": []
          },
          "execution_count": 20
        }
      ]
    },
    {
      "cell_type": "markdown",
      "metadata": {
        "id": "nde8ZT3r209p",
        "colab_type": "text"
      },
      "source": [
        "### Inputs"
      ]
    },
    {
      "cell_type": "code",
      "metadata": {
        "id": "jM5XiZP6RqMN",
        "colab_type": "code",
        "colab": {}
      },
      "source": [
        "args = parser.parse_args([])"
      ],
      "execution_count": 21,
      "outputs": []
    },
    {
      "cell_type": "code",
      "metadata": {
        "id": "4v2kjRPc0BLQ",
        "colab_type": "code",
        "colab": {}
      },
      "source": [
        "model_name = 'ffhq'\n",
        "\n",
        "if model_name == 'cars':\n",
        "  img_size = 512\n",
        "else:\n",
        "  img_size = 1024"
      ],
      "execution_count": 22,
      "outputs": []
    },
    {
      "cell_type": "code",
      "metadata": {
        "id": "Z-QwytT5Rnau",
        "colab_type": "code",
        "colab": {}
      },
      "source": [
        "filename = '/content/stylegan2/aligned_images/Venus_botticelli_detail_01.png'\n",
        "\n",
        "fn = filename.split('/')[-1].split('.')[0]\n",
        "save_dir = f'./results/stylegan2_ffhq/ng_{args.ng_method}_{fn}'"
      ],
      "execution_count": 23,
      "outputs": []
    },
    {
      "cell_type": "markdown",
      "metadata": {
        "id": "hzy6BhUu225y",
        "colab_type": "text"
      },
      "source": [
        "### Initialize"
      ]
    },
    {
      "cell_type": "code",
      "metadata": {
        "id": "KiJ0oKkVOOkq",
        "colab_type": "code",
        "colab": {
          "base_uri": "https://localhost:8080/",
          "height": 0
        },
        "outputId": "17387dab-7d88-4c70-a4ae-89feec5af807"
      },
      "source": [
        "### ---- initialize --- ###\n",
        "\n",
        "model = StyleGAN2(model=model_name, search='z')\n",
        "\n",
        "target = image.read(filename, as_transformed_tensor=True, im_size=img_size,\n",
        "                    transform_style='stylegan')\n",
        "\n",
        "loss_mask = torch.zeros((3, img_size, img_size))\n",
        "\n",
        "if model_name == 'cars':\n",
        "  # we apply a mask since the generated resolution is 384 x 512\n",
        "  loss_mask[:, 64:-64, :].data += 1.0\n",
        "else:\n",
        "  loss_mask.data += 1.0\n",
        "\n",
        "weight = loss_mask\n",
        "\n",
        "\n",
        "\n",
        "\n",
        "\n",
        "\n",
        "model = StyleGAN2(model=model_name, search='z')\n",
        "model = nn.DataParallel(model)\n",
        "loss_fn = LF.ProjectionLoss()\n",
        "\n",
        "\n",
        "var_manager = VariableManager()\n",
        "\n",
        "var_manager.register(\n",
        "                variable_name='z',\n",
        "                shape=(512,),\n",
        "                default=None,\n",
        "                grad_free=True,\n",
        "                distribution=dist.TruncatedNormalModulo(\n",
        "                                            sigma=1.0,\n",
        "                                            trunc=args.truncate\n",
        "                                            ),\n",
        "                var_type='input',\n",
        "                learning_rate=args.lr,\n",
        "                hook_fn=hook.Compose(\n",
        "                            hook.NormalPerturb(sigma=args.latent_noise),\n",
        "                            hook.Clamp(trunc=args.truncate),\n",
        "                            )\n",
        "                )\n",
        "\n",
        "var_manager.register(\n",
        "                variable_name='target',\n",
        "                shape=(3, img_size, img_size),\n",
        "                requires_grad=False,\n",
        "                default=target,\n",
        "                var_type='output'\n",
        "                )\n",
        "\n",
        "var_manager.register(\n",
        "                variable_name='weight',\n",
        "                shape=(3, img_size, img_size),\n",
        "                requires_grad=False,\n",
        "                default=weight,\n",
        "                var_type='output'\n",
        "                )\n",
        "\n",
        "var_manager.register(\n",
        "                variable_name='loss_mask',\n",
        "                shape=(3, img_size, img_size),\n",
        "                requires_grad=False,\n",
        "                default=loss_mask,\n",
        "                var_type='output'\n",
        "                )"
      ],
      "execution_count": 25,
      "outputs": [
        {
          "output_type": "stream",
          "text": [
            "Setting up [LPIPS] perceptual loss: trunk [alex], v[0.1], spatial [on]\n",
            "Loading model from: /usr/local/lib/python3.6/dist-packages/lpips/weights/v0.1/alex.pth\n"
          ],
          "name": "stdout"
        },
        {
          "output_type": "execute_result",
          "data": {
            "text/plain": [
              "True"
            ]
          },
          "metadata": {
            "tags": []
          },
          "execution_count": 25
        }
      ]
    },
    {
      "cell_type": "markdown",
      "metadata": {
        "id": "0Xu0v732O1QZ",
        "colab_type": "text"
      },
      "source": [
        "### Optimize\n",
        "\n",
        "**Caveat**: Google Colab does not offer enough RAM to run CMA or BasinCMA on FFHQ data."
      ]
    },
    {
      "cell_type": "code",
      "metadata": {
        "id": "DfkU9uuKzAsi",
        "colab_type": "code",
        "colab": {
          "base_uri": "https://localhost:8080/",
          "height": 513
        },
        "outputId": "5d10eab6-1d5e-4cd8-ba45-3c7a05fa4362"
      },
      "source": [
        "### ---- optimize --- ###\n",
        "\n",
        "opt = NevergradOptimizer(\n",
        "            args.ng_method, model, var_manager, loss_fn,\n",
        "            max_batch_size=args.max_minibatch,\n",
        "            log=args.make_video\n",
        "            )\n",
        "\n",
        "opt.log_resize_factor = 0.25\n",
        "\n",
        "vars, out, loss = opt.optimize(\n",
        "            num_samples=args.num_samples, meta_steps=1000, grad_steps=300\n",
        "            )"
      ],
      "execution_count": 26,
      "outputs": [
        {
          "output_type": "stream",
          "text": [
            "(11_w,22)-aCMA-ES (mu_w=6.5,w_1=26%) in dimension 512 (seed=<module 'time' (built-in)>, Tue Sep 22 20:01:43 2020)\n",
            "(\u001b[36moptimize\u001b[0m) progress 4% [50/1300] (0.690 sec/iter)\n",
            "(\u001b[36moptimize\u001b[0m) progress 8% [100/1300] (0.706 sec/iter)\n",
            "(\u001b[36moptimize\u001b[0m) progress 12% [150/1300] (0.717 sec/iter)\n",
            "(\u001b[36moptimize\u001b[0m) progress 15% [200/1300] (0.727 sec/iter)\n",
            "(\u001b[36moptimize\u001b[0m) progress 19% [250/1300] (0.732 sec/iter)\n",
            "(\u001b[36moptimize\u001b[0m) progress 23% [300/1300] (0.740 sec/iter)\n",
            "(\u001b[36moptimize\u001b[0m) progress 27% [350/1300] (0.745 sec/iter)\n",
            "(\u001b[36moptimize\u001b[0m) progress 31% [400/1300] (0.751 sec/iter)\n",
            "(\u001b[36moptimize\u001b[0m) progress 35% [450/1300] (0.752 sec/iter)\n",
            "(\u001b[36moptimize\u001b[0m) progress 38% [500/1300] (0.752 sec/iter)\n",
            "(\u001b[36moptimize\u001b[0m) progress 42% [550/1300] (0.754 sec/iter)\n",
            "(\u001b[36moptimize\u001b[0m) progress 46% [600/1300] (0.754 sec/iter)\n",
            "(\u001b[36moptimize\u001b[0m) progress 50% [650/1300] (0.757 sec/iter)\n",
            "(\u001b[36moptimize\u001b[0m) progress 54% [700/1300] (0.757 sec/iter)\n",
            "(\u001b[36moptimize\u001b[0m) progress 58% [750/1300] (0.756 sec/iter)\n",
            "(\u001b[36moptimize\u001b[0m) progress 62% [800/1300] (0.755 sec/iter)\n",
            "(\u001b[36moptimize\u001b[0m) progress 65% [850/1300] (0.755 sec/iter)\n",
            "(\u001b[36moptimize\u001b[0m) progress 69% [900/1300] (0.757 sec/iter)\n",
            "(\u001b[36moptimize\u001b[0m) progress 73% [950/1300] (0.759 sec/iter)\n",
            "(\u001b[36moptimize\u001b[0m) progress 77% [1000/1300] (0.755 sec/iter)\n",
            "(\u001b[36moptimize\u001b[0m) progress 81% [1050/1300] (0.949 sec/iter)\n",
            "(\u001b[36moptimize\u001b[0m) progress 85% [1100/1300] (0.967 sec/iter)\n",
            "(\u001b[36moptimize\u001b[0m) progress 88% [1150/1300] (0.967 sec/iter)\n",
            "(\u001b[36moptimize\u001b[0m) progress 92% [1200/1300] (0.967 sec/iter)\n",
            "(\u001b[36moptimize\u001b[0m) progress 96% [1250/1300] (0.966 sec/iter)\n",
            "(\u001b[36moptimize\u001b[0m) progress 100% [1300/1300] (0.966 sec/iter)\n"
          ],
          "name": "stdout"
        }
      ]
    },
    {
      "cell_type": "markdown",
      "metadata": {
        "id": "CmjeYD7mO3TM",
        "colab_type": "text"
      },
      "source": [
        "### Save results"
      ]
    },
    {
      "cell_type": "code",
      "metadata": {
        "id": "aDTkodzFOQ1A",
        "colab_type": "code",
        "colab": {}
      },
      "source": [
        "### ---- save results ---- #\n",
        "\n",
        "vars.loss = loss\n",
        "os.makedirs(save_dir, exist_ok=True)\n",
        "\n",
        "save_variables(osp.join(save_dir, 'vars.npy'), vars)\n",
        "\n",
        "if args.make_video:\n",
        "    video.make_video(osp.join(save_dir, 'out.mp4'), out)\n",
        "\n",
        "image.save(osp.join(save_dir, 'target.jpg'), target)\n",
        "image.save(osp.join(save_dir, 'mask.jpg'), image.binarize(weight))\n",
        "image.save(osp.join(save_dir, 'out.jpg'), out[-1])\n",
        "np.save(osp.join(save_dir, 'tracked.npy'), opt.tracked)"
      ],
      "execution_count": 27,
      "outputs": []
    },
    {
      "cell_type": "markdown",
      "metadata": {
        "id": "IDOCYPsGIyt4",
        "colab_type": "text"
      },
      "source": [
        "### Archive results before downloading them"
      ]
    },
    {
      "cell_type": "code",
      "metadata": {
        "id": "Fqjo6X4iH8l0",
        "colab_type": "code",
        "colab": {
          "base_uri": "https://localhost:8080/",
          "height": 109
        },
        "outputId": "3707a28f-bdb8-44dc-8414-3769f8287c81"
      },
      "source": [
        "!du -sh results/stylegan2_ffhq/*/*"
      ],
      "execution_count": 30,
      "outputs": [
        {
          "output_type": "stream",
          "text": [
            "20K\tresults/stylegan2_ffhq/ng_CMA_Venus_botticelli_detail_01/mask.jpg\n",
            "3.6M\tresults/stylegan2_ffhq/ng_CMA_Venus_botticelli_detail_01/out.jpg\n",
            "1.2M\tresults/stylegan2_ffhq/ng_CMA_Venus_botticelli_detail_01/target.jpg\n",
            "19M\tresults/stylegan2_ffhq/ng_CMA_Venus_botticelli_detail_01/tracked.npy\n",
            "145M\tresults/stylegan2_ffhq/ng_CMA_Venus_botticelli_detail_01/vars.npy\n"
          ],
          "name": "stdout"
        }
      ]
    },
    {
      "cell_type": "code",
      "metadata": {
        "id": "ZOECqdkJaKi6",
        "colab_type": "code",
        "colab": {}
      },
      "source": [
        "# !tar --exclude vars.npy -cvf pix2latent_output.tar.gz results/stylegan2_ffhq/\n",
        "# !du -sh pix2latent_output.tar.gz"
      ],
      "execution_count": null,
      "outputs": []
    }
  ]
}