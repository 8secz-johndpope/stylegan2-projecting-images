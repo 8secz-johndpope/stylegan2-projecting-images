{
  "nbformat": 4,
  "nbformat_minor": 0,
  "metadata": {
    "colab": {
      "name": "minimal_working_example.ipynb",
      "provenance": [],
      "collapsed_sections": []
    },
    "kernelspec": {
      "name": "python3",
      "display_name": "Python 3"
    },
    "accelerator": "GPU"
  },
  "cells": [
    {
      "cell_type": "markdown",
      "metadata": {
        "id": "PD4xf5D4YIV8",
        "colab_type": "text"
      },
      "source": [
        "# Minimal Working Example\n",
        "References:\n",
        "-   project [`woctezuma/stylegan2-projecting-images`](https://github.com/woctezuma/stylegan2-projecting-images)\n",
        "-   issue [#4](https://github.com/woctezuma/stylegan2-projecting-images/issues/4)"
      ]
    },
    {
      "cell_type": "code",
      "metadata": {
        "id": "yw95pS93UMpb",
        "colab_type": "code",
        "colab": {
          "base_uri": "https://localhost:8080/",
          "height": 35
        },
        "outputId": "bee2f9b5-af66-4c3d-fa89-4142b0720663"
      },
      "source": [
        "%tensorflow_version 1.x"
      ],
      "execution_count": 1,
      "outputs": [
        {
          "output_type": "stream",
          "text": [
            "TensorFlow 1.x selected.\n"
          ],
          "name": "stdout"
        }
      ]
    },
    {
      "cell_type": "code",
      "metadata": {
        "id": "mGDunHOOKtFQ",
        "colab_type": "code",
        "colab": {
          "base_uri": "https://localhost:8080/",
          "height": 127
        },
        "outputId": "c0fd23c2-ab64-4b09-e7a6-7a2796b6255d"
      },
      "source": [
        "%cd /content/\n",
        "!git clone https://github.com/woctezuma/stylegan2.git"
      ],
      "execution_count": 2,
      "outputs": [
        {
          "output_type": "stream",
          "text": [
            "/content\n",
            "Cloning into 'stylegan2'...\n",
            "remote: Enumerating objects: 175, done.\u001b[K\n",
            "remote: Total 175 (delta 0), reused 0 (delta 0), pack-reused 175\u001b[K\n",
            "Receiving objects: 100% (175/175), 1.56 MiB | 29.61 MiB/s, done.\n",
            "Resolving deltas: 100% (80/80), done.\n"
          ],
          "name": "stdout"
        }
      ]
    },
    {
      "cell_type": "code",
      "metadata": {
        "id": "GS8uqUGEOh05",
        "colab_type": "code",
        "colab": {
          "base_uri": "https://localhost:8080/",
          "height": 72
        },
        "outputId": "fb9b2f05-d3b0-4c83-eb95-08a7c5f6cd34"
      },
      "source": [
        "%cd /content/stylegan2/\n",
        "!git checkout tiled-projector"
      ],
      "execution_count": 3,
      "outputs": [
        {
          "output_type": "stream",
          "text": [
            "/content/stylegan2\n",
            "Branch 'tiled-projector' set up to track remote branch 'tiled-projector' from 'origin'.\n",
            "Switched to a new branch 'tiled-projector'\n"
          ],
          "name": "stdout"
        }
      ]
    },
    {
      "cell_type": "code",
      "metadata": {
        "id": "p1LHloOHUrJg",
        "colab_type": "code",
        "colab": {
          "base_uri": "https://localhost:8080/",
          "height": 459
        },
        "outputId": "7723dc67-b7b3-4dcd-dfbb-45d8356af6ab"
      },
      "source": [
        "%mkdir -p /content/stylegan2/raw_images/\n",
        "%cd /content/stylegan2/raw_images/\n",
        "!wget https://upload.wikimedia.org/wikipedia/commons/b/b0/Venus_botticelli_detail.jpg\n",
        "!wget https://upload.wikimedia.org/wikipedia/commons/thumb/e/ee/Ginevra_de%27_Benci_-_National_Gallery_of_Art.jpg/993px-Ginevra_de%27_Benci_-_National_Gallery_of_Art.jpg"
      ],
      "execution_count": 4,
      "outputs": [
        {
          "output_type": "stream",
          "text": [
            "/content/stylegan2/raw_images\n",
            "--2020-09-22 15:10:53--  https://upload.wikimedia.org/wikipedia/commons/b/b0/Venus_botticelli_detail.jpg\n",
            "Resolving upload.wikimedia.org (upload.wikimedia.org)... 198.35.26.112, 2620:0:863:ed1a::2:b\n",
            "Connecting to upload.wikimedia.org (upload.wikimedia.org)|198.35.26.112|:443... connected.\n",
            "HTTP request sent, awaiting response... 200 OK\n",
            "Length: 992216 (969K) [image/jpeg]\n",
            "Saving to: ‘Venus_botticelli_detail.jpg’\n",
            "\n",
            "Venus_botticelli_de 100%[===================>] 968.96K  --.-KB/s    in 0.1s    \n",
            "\n",
            "2020-09-22 15:10:53 (7.01 MB/s) - ‘Venus_botticelli_detail.jpg’ saved [992216/992216]\n",
            "\n",
            "--2020-09-22 15:10:53--  https://upload.wikimedia.org/wikipedia/commons/thumb/e/ee/Ginevra_de%27_Benci_-_National_Gallery_of_Art.jpg/993px-Ginevra_de%27_Benci_-_National_Gallery_of_Art.jpg\n",
            "Resolving upload.wikimedia.org (upload.wikimedia.org)... 198.35.26.112, 2620:0:863:ed1a::2:b\n",
            "Connecting to upload.wikimedia.org (upload.wikimedia.org)|198.35.26.112|:443... connected.\n",
            "HTTP request sent, awaiting response... 200 OK\n",
            "Length: 297991 (291K) [image/jpeg]\n",
            "Saving to: ‘993px-Ginevra_de'_Benci_-_National_Gallery_of_Art.jpg’\n",
            "\n",
            "993px-Ginevra_de'_B 100%[===================>] 291.01K  --.-KB/s    in 0.08s   \n",
            "\n",
            "2020-09-22 15:10:53 (3.37 MB/s) - ‘993px-Ginevra_de'_Benci_-_National_Gallery_of_Art.jpg’ saved [297991/297991]\n",
            "\n"
          ],
          "name": "stdout"
        }
      ]
    },
    {
      "cell_type": "code",
      "metadata": {
        "id": "VgX9k57QV4FK",
        "colab_type": "code",
        "colab": {
          "base_uri": "https://localhost:8080/",
          "height": 329
        },
        "outputId": "b93ee569-497c-4d02-b8da-a28bb779db38"
      },
      "source": [
        "%mkdir -p /root/.keras/temp/\n",
        "%cd /root/.keras/temp/\n",
        "# !wget http://dlib.net/files/shape_predictor_68_face_landmarks.dat.bz2\n",
        "!wget https://github.com/davisking/dlib-models/raw/master/shape_predictor_68_face_landmarks.dat.bz2"
      ],
      "execution_count": 5,
      "outputs": [
        {
          "output_type": "stream",
          "text": [
            "/root/.keras/temp\n",
            "--2020-09-22 15:10:53--  https://github.com/davisking/dlib-models/raw/master/shape_predictor_68_face_landmarks.dat.bz2\n",
            "Resolving github.com (github.com)... 192.30.255.113\n",
            "Connecting to github.com (github.com)|192.30.255.113|:443... connected.\n",
            "HTTP request sent, awaiting response... 302 Found\n",
            "Location: https://raw.githubusercontent.com/davisking/dlib-models/master/shape_predictor_68_face_landmarks.dat.bz2 [following]\n",
            "--2020-09-22 15:10:54--  https://raw.githubusercontent.com/davisking/dlib-models/master/shape_predictor_68_face_landmarks.dat.bz2\n",
            "Resolving raw.githubusercontent.com (raw.githubusercontent.com)... 151.101.0.133, 151.101.64.133, 151.101.128.133, ...\n",
            "Connecting to raw.githubusercontent.com (raw.githubusercontent.com)|151.101.0.133|:443... connected.\n",
            "HTTP request sent, awaiting response... 200 OK\n",
            "Length: 64040097 (61M) [application/octet-stream]\n",
            "Saving to: ‘shape_predictor_68_face_landmarks.dat.bz2’\n",
            "\n",
            "shape_predictor_68_ 100%[===================>]  61.07M  99.3MB/s    in 0.6s    \n",
            "\n",
            "2020-09-22 15:10:56 (99.3 MB/s) - ‘shape_predictor_68_face_landmarks.dat.bz2’ saved [64040097/64040097]\n",
            "\n"
          ],
          "name": "stdout"
        }
      ]
    },
    {
      "cell_type": "code",
      "metadata": {
        "id": "hdmzEG_DWD4c",
        "colab_type": "code",
        "colab": {
          "base_uri": "https://localhost:8080/",
          "height": 439
        },
        "outputId": "b9c3d2c0-ebc2-4fdd-e5e7-8387df2ff1d5"
      },
      "source": [
        "%cd /content/stylegan2/\n",
        "!wget http://d36zk2xti64re0.cloudfront.net/stylegan1/networks/metrics/vgg16_zhang_perceptual.pkl\n",
        "!wget  http://d36zk2xti64re0.cloudfront.net/stylegan2/networks/stylegan2-ffhq-config-f.pkl"
      ],
      "execution_count": 7,
      "outputs": [
        {
          "output_type": "stream",
          "text": [
            "/content/stylegan2\n",
            "--2020-09-22 15:11:23--  http://d36zk2xti64re0.cloudfront.net/stylegan1/networks/metrics/vgg16_zhang_perceptual.pkl\n",
            "Resolving d36zk2xti64re0.cloudfront.net (d36zk2xti64re0.cloudfront.net)... 13.227.77.129, 13.227.77.210, 13.227.77.225, ...\n",
            "Connecting to d36zk2xti64re0.cloudfront.net (d36zk2xti64re0.cloudfront.net)|13.227.77.129|:80... connected.\n",
            "HTTP request sent, awaiting response... 200 OK\n",
            "Length: 58871973 (56M) [application/x-www-form-urlencoded]\n",
            "Saving to: ‘vgg16_zhang_perceptual.pkl’\n",
            "\n",
            "vgg16_zhang_percept 100%[===================>]  56.14M  67.3MB/s    in 0.8s    \n",
            "\n",
            "2020-09-22 15:11:25 (67.3 MB/s) - ‘vgg16_zhang_perceptual.pkl’ saved [58871973/58871973]\n",
            "\n",
            "--2020-09-22 15:11:25--  http://d36zk2xti64re0.cloudfront.net/stylegan2/networks/stylegan2-ffhq-config-f.pkl\n",
            "Resolving d36zk2xti64re0.cloudfront.net (d36zk2xti64re0.cloudfront.net)... 13.224.10.184, 13.224.10.190, 13.224.10.24, ...\n",
            "Connecting to d36zk2xti64re0.cloudfront.net (d36zk2xti64re0.cloudfront.net)|13.224.10.184|:80... connected.\n",
            "HTTP request sent, awaiting response... 200 OK\n",
            "Length: 381673535 (364M) [application/x-www-form-urlencoded]\n",
            "Saving to: ‘stylegan2-ffhq-config-f.pkl’\n",
            "\n",
            "stylegan2-ffhq-conf 100%[===================>] 363.99M   231MB/s    in 1.6s    \n",
            "\n",
            "2020-09-22 15:11:27 (231 MB/s) - ‘stylegan2-ffhq-config-f.pkl’ saved [381673535/381673535]\n",
            "\n"
          ],
          "name": "stdout"
        }
      ]
    },
    {
      "cell_type": "code",
      "metadata": {
        "id": "gUyio9WeVNkI",
        "colab_type": "code",
        "colab": {
          "base_uri": "https://localhost:8080/",
          "height": 54
        },
        "outputId": "f8894a75-5ec7-47a2-bfbc-433e8feb4262"
      },
      "source": [
        "%cd /content/stylegan2/\n",
        "!python align_images.py raw_images/ aligned_images/"
      ],
      "execution_count": 6,
      "outputs": [
        {
          "output_type": "stream",
          "text": [
            "/content/stylegan2\n",
            "Using TensorFlow backend.\n"
          ],
          "name": "stdout"
        }
      ]
    },
    {
      "cell_type": "code",
      "metadata": {
        "id": "T8vxDWXAVHHY",
        "colab_type": "code",
        "colab": {
          "base_uri": "https://localhost:8080/",
          "height": 268
        },
        "outputId": "50283497-0abc-4e3d-9904-b59a6420eeee"
      },
      "source": [
        "%cd /content/stylegan2/\n",
        "!python project_images.py aligned_images/ generated_images/ --network-pkl stylegan2-ffhq-config-f.pkl --vgg16-pkl vgg16_zhang_perceptual.pkl --video True --video-mode 2 "
      ],
      "execution_count": null,
      "outputs": [
        {
          "output_type": "stream",
          "text": [
            "/content/stylegan2\n",
            "Loading networks from \"stylegan2-ffhq-config-f.pkl\"...\n",
            "Setting up TensorFlow plugin \"fused_bias_act.cu\": Preprocessing... Compiling... Loading... Done.\n",
            "Setting up TensorFlow plugin \"upfirdn_2d.cu\": Preprocessing... Compiling... Loading... Done.\n",
            "Loading images from \".stylegan2-tmp/dataset/images\"\n",
            "Creating dataset \".stylegan2-tmp/dataset/tfrecords\"\n",
            "Added 1 images.\n",
            "tcmalloc: large alloc 4294967296 bytes == 0x5908a000 @  0x7f748bdd0001 0x7f7489297765 0x7f74892fbbb0 0x7f74892fda4f 0x7f7489394048 0x50a7f5 0x50cfd6 0x507f24 0x509202 0x594b01 0x54a17f 0x5517c1 0x59fe1e 0x50d596 0x507f24 0x509c50 0x50a64d 0x50cfd6 0x507f24 0x509c50 0x50a64d 0x50cfd6 0x507f24 0x509c50 0x50a64d 0x50c1f4 0x507f24 0x50b053 0x634dd2 0x634e87 0x63863f\n",
            "tcmalloc: large alloc 4294967296 bytes == 0x7f723dd40000 @  0x7f748bdce1e7 0x7f74892975e1 0x7f74892fbc78 0x7f74892fbf37 0x7f7489393f28 0x50a7f5 0x50cfd6 0x507f24 0x509c50 0x50a64d 0x50cfd6 0x507f24 0x509c50 0x50a64d 0x50cfd6 0x507f24 0x509c50 0x50a64d 0x50cfd6 0x509918 0x50a64d 0x50c1f4 0x507f24 0x509c50 0x50a64d 0x50c1f4 0x507f24 0x509c50 0x50a64d 0x50cfd6 0x507f24\n",
            "tcmalloc: large alloc 4294967296 bytes == 0x7f723dd40000 @  0x7f748bdce1e7 0x7f74892975e1 0x7f74892fbc78 0x7f74892fbf37 0x7f744b5740c5 0x7f744aef7902 0x7f744aef7eb2 0x7f744aeb0c3e 0x50a47f 0x50c1f4 0x509918 0x50a64d 0x50c1f4 0x507f24 0x588ddb 0x59fe1e 0x50d596 0x507f24 0x509c50 0x50a64d 0x50c1f4 0x507f24 0x509c50 0x50a64d 0x50c1f4 0x509918 0x50a64d 0x50c1f4 0x507f24 0x509202 0x594b01\n",
            "Projecting image \"993px-Ginevra_de'_Benci_-_National_Gallery_of_Art_01.png\"...\n",
            "542 / 1000 ... "
          ],
          "name": "stdout"
        }
      ]
    }
  ]
}